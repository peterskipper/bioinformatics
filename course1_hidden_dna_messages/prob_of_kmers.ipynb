{
 "cells": [
  {
   "cell_type": "code",
   "execution_count": 3,
   "metadata": {},
   "outputs": [
    {
     "data": {
      "text/plain": [
       "120"
      ]
     },
     "execution_count": 3,
     "metadata": {},
     "output_type": "execute_result"
    }
   ],
   "source": [
    "import operator as op\n",
    "from functools import reduce\n",
    "\n",
    "def n_choose_r(n, r):\n",
    "    r = min(r, n-r)\n",
    "    numer = reduce(op.mul, range(n, n-r, -1), 1)\n",
    "    denom = reduce(op.mul, range(1, r+1), 1)\n",
    "    return numer // denom\n",
    "\n",
    "n_choose_r(10, 3)"
   ]
  },
  {
   "cell_type": "code",
   "execution_count": 6,
   "metadata": {},
   "outputs": [
    {
     "data": {
      "text/plain": [
       "0.003798281103958429"
      ]
     },
     "execution_count": 6,
     "metadata": {},
     "output_type": "execute_result"
    }
   ],
   "source": [
    "# This pr overcounts\n",
    "# because of overlapping strings\n",
    "def pr_kmer(t, N=1000, A=4, k=9):\n",
    "    n = N - (k * t)\n",
    "    places_to_insert = n_choose_r(n + t, t)\n",
    "    all_possible_strings_to_insert = A**n\n",
    "    all_possible_strings = A**N\n",
    "    return (places_to_insert * all_possible_strings_to_insert) / all_possible_strings\n",
    "\n",
    "\n",
    "def max_number_kmers(N, k):\n",
    "    t = 0\n",
    "    n = N - (k * t)\n",
    "    while n > 0:\n",
    "        t += 1\n",
    "        n = N - (k * t)\n",
    "    return t - 1\n",
    "\n",
    "\n",
    "def exp_number_kmers(N, A, k):\n",
    "    exp_num_kmers = 0\n",
    "    for t in range(max_number_kmers(N, k) + 1):\n",
    "        pr = pr_kmer(t, N, A, k)\n",
    "        exp_num_kmers += (pr * t)\n",
    "    return exp_num_kmers\n",
    "\n",
    "\n",
    "e = exp_number_kmers(N=1000, A=4, k=9)\n",
    "e"
   ]
  },
  {
   "cell_type": "code",
   "execution_count": 9,
   "metadata": {},
   "outputs": [
    {
     "data": {
      "text/plain": [
       "1.8991405519792144"
      ]
     },
     "execution_count": 9,
     "metadata": {},
     "output_type": "execute_result"
    }
   ],
   "source": [
    "500 * e"
   ]
  },
  {
   "cell_type": "markdown",
   "metadata": {},
   "source": [
    "### A different approach"
   ]
  },
  {
   "cell_type": "code",
   "execution_count": 10,
   "metadata": {},
   "outputs": [
    {
     "data": {
      "text/plain": [
       "1.89208984375"
      ]
     },
     "execution_count": 10,
     "metadata": {},
     "output_type": "execute_result"
    }
   ],
   "source": [
    "A = 4\n",
    "\n",
    "all_poss_9mers = A**9\n",
    "pr_of_my_9mer = 1 / all_poss_9mers\n",
    "\n",
    "N = 1000\n",
    "k = 9\n",
    "all_poss_positns_my_9mer = N - k + 1\n",
    "\n",
    "num_strings = 500\n",
    "all_positns = num_strings * all_poss_positns_my_9mer\n",
    "exp_num_my_9mer = pr_of_my_9mer * all_positns\n",
    "exp_num_my_9mer"
   ]
  },
  {
   "cell_type": "code",
   "execution_count": null,
   "metadata": {},
   "outputs": [],
   "source": []
  }
 ],
 "metadata": {
  "kernelspec": {
   "display_name": "Python 3",
   "language": "python",
   "name": "python3"
  },
  "language_info": {
   "codemirror_mode": {
    "name": "ipython",
    "version": 3
   },
   "file_extension": ".py",
   "mimetype": "text/x-python",
   "name": "python",
   "nbconvert_exporter": "python",
   "pygments_lexer": "ipython3",
   "version": "3.7.9"
  }
 },
 "nbformat": 4,
 "nbformat_minor": 4
}
