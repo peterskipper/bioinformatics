{
 "cells": [
  {
   "cell_type": "code",
   "execution_count": 1,
   "metadata": {},
   "outputs": [],
   "source": [
    "from collections import Counter\n",
    "from itertools import islice\n",
    "\n",
    "from Bio import SeqIO\n",
    "import numpy as np\n",
    "import pandas as pd"
   ]
  },
  {
   "cell_type": "code",
   "execution_count": 46,
   "metadata": {},
   "outputs": [],
   "source": [
    "def load_data_from_file(fpath):\n",
    "    data = [record for record in SeqIO.parse(fpath, 'fasta')]\n",
    "    strands = [d.seq._data for d in data]\n",
    "    char_arr = np.empty(shape=(len(strands), len(strands[0])), dtype=str)\n",
    "    for ix, strand in enumerate(strands):\n",
    "        chars = [char for char in strand]\n",
    "        char_arr[ix, :] = chars\n",
    "    return char_arr\n",
    "\n",
    "\n",
    "def random_start_motif(strand, k=20):\n",
    "    \"\"\"Picks random starting motifs from the provided DNA strings\"\"\"\n",
    "    N = len(strand)\n",
    "    poss_starts = len(strand) - k + 1\n",
    "    start = np.random.choice(poss_starts)\n",
    "    motif = strand[start:start+k]\n",
    "    assert len(motif) == k, \"Motif is wrong length\"\n",
    "    return motif\n",
    "\n",
    "\n",
    "def random_start(char_arr, k=20):\n",
    "    motifs = np.empty(shape=(len(char_arr), k), dtype=str)\n",
    "    for ix, strand in enumerate(char_arr):\n",
    "        motifs[ix, :] = random_start_motif(strand, k)\n",
    "    return motifs\n",
    "\n",
    "\n",
    "def remove_motif(motifs, strand_ix):\n",
    "    msk = np.ones(len(motifs), dtype=bool)\n",
    "    msk[strand_ix] = False\n",
    "    return motifs[msk]\n",
    "    \n",
    "    \n",
    "def profile(motifs):\n",
    "    counts = pd.DataFrame(index=[\"A\", \"C\", \"G\", \"T\"], columns=range(len(motifs[0])))\n",
    "    # Laplace correction makes every count at least 1\n",
    "    counts = counts.fillna(1)\n",
    "    for col_ix in range(len(motifs[0])):\n",
    "        col = motifs[:, col_ix]\n",
    "        c = Counter(col)\n",
    "        for nuc, cnt in c.items():\n",
    "            counts.loc[nuc, col_ix] += cnt\n",
    "    counts = counts.apply(lambda col: col/col.sum()) # normalized\n",
    "    return counts\n",
    "        \n",
    "    \n",
    "def profile_motif(motif, profile):\n",
    "    profile_score = 1\n",
    "    for ix, nuc in enumerate(motif):\n",
    "        profile_score *= profile.loc[nuc, ix]\n",
    "    return profile_score\n",
    "\n",
    "\n",
    "def window(seq, k):\n",
    "    it = iter(seq)\n",
    "    result = tuple(islice(it, k))\n",
    "    if len(result) == k:\n",
    "        yield result\n",
    "    for elem in it:\n",
    "        result = result[1:] + (elem,)\n",
    "        yield result\n",
    "    \n",
    "    \n",
    "def profile_strand(strand, profile):\n",
    "    profile_scores = []\n",
    "    k = profile.shape[1]\n",
    "    for motif in window(strand, k):\n",
    "        profile_scores.append(profile_motif(motif, profile))\n",
    "    ttl = sum(profile_scores)\n",
    "    return [score/ttl for score in profile_scores]\n",
    "\n",
    "\n",
    "def sample_new_motif(strand, scores, k=20):\n",
    "    # Each score corresponds to the starting index of that motif\n",
    "    start_ix = np.random.choice(range(len(scores)), p=scores)\n",
    "    new_motif = strand[start_ix:start_ix+k]\n",
    "    assert len(new_motif) == k, \"new motif is wrong length\" # error checking\n",
    "    return new_motif\n",
    "\n",
    "\n",
    "def score_motifs(motifs):\n",
    "    score = 0\n",
    "    for col in range(motifs.shape[1]):\n",
    "        most_freq_nuc, cnt_most_freq = Counter(motifs[:,col]).most_common(1)[0]\n",
    "        # score for a col is the number of nucleotides that are NOT\n",
    "        # the most frequent\n",
    "        score += (len(motifs[:,col]) - cnt_most_freq)\n",
    "    return score\n",
    "    \n",
    "    \n",
    "def gibbs(dna, k, N):    \n",
    "    motifs = random_start(dna, k)\n",
    "    best_motifs = motifs\n",
    "    best_score = score_motifs(motifs)\n",
    "    num_strands = dna.shape[0]\n",
    "    for _ in range(N):\n",
    "        strand_ix = np.random.choice(num_strands)\n",
    "        with_motif_removed = remove_motif(motifs, strand_ix)\n",
    "        prof = profile(with_motif_removed)\n",
    "        strand_probs = profile_strand(dna[strand_ix, :], prof)\n",
    "        new_motif = sample_new_motif(dna[strand_ix, :], strand_probs, k)\n",
    "        motifs[strand_ix, :] = new_motif\n",
    "        if score_motifs(motifs) < best_score:\n",
    "            best_motifs = motifs\n",
    "            best_score = score_motifs(motifs)\n",
    "    return best_score, best_motifs"
   ]
  },
  {
   "cell_type": "code",
   "execution_count": 47,
   "metadata": {},
   "outputs": [
    {
     "name": "stdout",
     "output_type": "stream",
     "text": [
      "On iteration  0\n"
     ]
    }
   ],
   "source": [
    "dna = load_data_from_file('upstream_250.txt')\n",
    "results = []\n",
    "for it in range(100): # try 1k random starts\n",
    "    if it % 100 == 0:\n",
    "        print(\"On iteration \", it)\n",
    "    result = gibbs(dna, k=20, N=100)\n",
    "    results.append(result)"
   ]
  },
  {
   "cell_type": "code",
   "execution_count": 56,
   "metadata": {},
   "outputs": [],
   "source": [
    "results.sort(key=lambda tup: tup[0])"
   ]
  },
  {
   "cell_type": "code",
   "execution_count": 57,
   "metadata": {},
   "outputs": [
    {
     "data": {
      "text/plain": [
       "322"
      ]
     },
     "execution_count": 57,
     "metadata": {},
     "output_type": "execute_result"
    }
   ],
   "source": [
    "results[0][0]"
   ]
  },
  {
   "cell_type": "code",
   "execution_count": 58,
   "metadata": {},
   "outputs": [
    {
     "data": {
      "text/plain": [
       "array([['C', 'A', 'G', 'C', 'C', 'C', 'C', 'A', 'A', 'G', 'G', 'C', 'C',\n",
       "        'G', 'A', 'A', 'C', 'G', 'A', 'C'],\n",
       "       ['C', 'G', 'A', 'C', 'C', 'A', 'C', 'C', 'G', 'C', 'G', 'C', 'C',\n",
       "        'G', 'G', 'A', 'G', 'C', 'C', 'C'],\n",
       "       ['A', 'G', 'G', 'G', 'C', 'T', 'C', 'C', 'G', 'G', 'C', 'G', 'C',\n",
       "        'G', 'G', 'T', 'G', 'G', 'T', 'C'],\n",
       "       ['C', 'G', 'G', 'C', 'C', 'C', 'T', 'G', 'T', 'C', 'C', 'G', 'C',\n",
       "        'G', 'T', 'C', 'C', 'G', 'T', 'G'],\n",
       "       ['C', 'G', 'A', 'A', 'C', 'C', 'C', 'G', 'A', 'G', 'A', 'T', 'C',\n",
       "        'G', 'T', 'C', 'A', 'C', 'C', 'G'],\n",
       "       ['C', 'C', 'G', 'C', 'C', 'G', 'T', 'T', 'G', 'C', 'G', 'C', 'C',\n",
       "        'G', 'G', 'G', 'T', 'G', 'C', 'G'],\n",
       "       ['C', 'G', 'G', 'C', 'C', 'G', 'A', 'C', 'G', 'A', 'G', 'C', 'G',\n",
       "        'G', 'G', 'C', 'G', 'C', 'A', 'G'],\n",
       "       ['A', 'G', 'C', 'G', 'C', 'G', 'C', 'G', 'G', 'G', 'C', 'C', 'C',\n",
       "        'G', 'G', 'C', 'C', 'G', 'C', 'C'],\n",
       "       ['C', 'G', 'A', 'G', 'G', 'A', 'G', 'C', 'A', 'C', 'A', 'T', 'G',\n",
       "        'G', 'C', 'C', 'G', 'C', 'C', 'G'],\n",
       "       ['C', 'C', 'A', 'C', 'C', 'C', 'A', 'C', 'G', 'A', 'G', 'G', 'C',\n",
       "        'C', 'G', 'C', 'C', 'G', 'C', 'C'],\n",
       "       ['A', 'G', 'T', 'C', 'C', 'C', 'C', 'G', 'G', 'G', 'C', 'T', 'C',\n",
       "        'G', 'G', 'A', 'G', 'C', 'T', 'A'],\n",
       "       ['C', 'G', 'A', 'T', 'A', 'C', 'T', 'C', 'C', 'G', 'C', 'T', 'G',\n",
       "        'G', 'C', 'A', 'G', 'C', 'C', 'C'],\n",
       "       ['C', 'G', 'G', 'G', 'C', 'T', 'T', 'C', 'C', 'A', 'A', 'C', 'C',\n",
       "        'G', 'T', 'G', 'G', 'C', 'C', 'G'],\n",
       "       ['C', 'G', 'C', 'C', 'T', 'C', 'C', 'T', 'G', 'A', 'C', 'G', 'C',\n",
       "        'G', 'A', 'T', 'C', 'G', 'C', 'G'],\n",
       "       ['C', 'C', 'T', 'G', 'A', 'T', 'C', 'C', 'A', 'C', 'A', 'C', 'C',\n",
       "        'G', 'G', 'C', 'G', 'A', 'C', 'C'],\n",
       "       ['C', 'G', 'G', 'G', 'C', 'A', 'C', 'C', 'G', 'G', 'A', 'T', 'C',\n",
       "        'G', 'A', 'C', 'A', 'C', 'G', 'G'],\n",
       "       ['C', 'G', 'T', 'T', 'G', 'T', 'C', 'G', 'A', 'G', 'G', 'C', 'C',\n",
       "        'G', 'A', 'C', 'G', 'A', 'T', 'G'],\n",
       "       ['T', 'G', 'G', 'C', 'A', 'C', 'C', 'C', 'C', 'A', 'A', 'C', 'A',\n",
       "        'G', 'G', 'C', 'G', 'G', 'C', 'G'],\n",
       "       ['C', 'G', 'T', 'G', 'A', 'A', 'T', 'C', 'C', 'C', 'G', 'C', 'T',\n",
       "        'G', 'G', 'C', 'G', 'G', 'T', 'C'],\n",
       "       ['G', 'C', 'G', 'C', 'G', 'G', 'A', 'C', 'A', 'A', 'A', 'T', 'G',\n",
       "        'G', 'C', 'C', 'C', 'G', 'C', 'G'],\n",
       "       ['A', 'A', 'G', 'T', 'C', 'C', 'C', 'C', 'G', 'A', 'A', 'G', 'C',\n",
       "        'G', 'C', 'G', 'G', 'G', 'C', 'C'],\n",
       "       ['C', 'A', 'T', 'C', 'G', 'T', 'G', 'C', 'C', 'G', 'C', 'G', 'C',\n",
       "        'G', 'T', 'C', 'G', 'G', 'C', 'G'],\n",
       "       ['C', 'G', 'T', 'C', 'A', 'C', 'C', 'G', 'A', 'A', 'G', 'C', 'C',\n",
       "        'G', 'A', 'C', 'A', 'T', 'C', 'G'],\n",
       "       ['A', 'G', 'C', 'A', 'C', 'C', 'C', 'C', 'G', 'A', 'C', 'T', 'C',\n",
       "        'G', 'A', 'G', 'G', 'A', 'G', 'G'],\n",
       "       ['C', 'G', 'G', 'G', 'C', 'C', 'G', 'C', 'C', 'G', 'G', 'T', 'C',\n",
       "        'T', 'C', 'G', 'A', 'C', 'A', 'G'],\n",
       "       ['C', 'G', 'G', 'C', 'C', 'A', 'G', 'C', 'A', 'C', 'G', 'C', 'C',\n",
       "        'G', 'T', 'C', 'A', 'G', 'A', 'G'],\n",
       "       ['A', 'C', 'C', 'C', 'T', 'T', 'C', 'C', 'G', 'C', 'G', 'T', 'C',\n",
       "        'G', 'T', 'A', 'C', 'T', 'G', 'G'],\n",
       "       ['A', 'G', 'G', 'G', 'C', 'G', 'C', 'G', 'A', 'T', 'G', 'C', 'G',\n",
       "        'G', 'G', 'T', 'G', 'C', 'C', 'C'],\n",
       "       ['A', 'G', 'A', 'A', 'C', 'A', 'C', 'C', 'G', 'G', 'A', 'T', 'C',\n",
       "        'G', 'G', 'C', 'G', 'C', 'C', 'G'],\n",
       "       ['C', 'G', 'G', 'T', 'C', 'A', 'C', 'C', 'A', 'T', 'G', 'T', 'C',\n",
       "        'G', 'C', 'G', 'G', 'G', 'C', 'A'],\n",
       "       ['A', 'A', 'G', 'G', 'C', 'T', 'C', 'G', 'C', 'C', 'A', 'G', 'C',\n",
       "        'G', 'G', 'A', 'G', 'G', 'A', 'C'],\n",
       "       ['A', 'G', 'G', 'G', 'C', 'C', 'A', 'A', 'A', 'G', 'G', 'T', 'C',\n",
       "        'C', 'T', 'C', 'C', 'G', 'C', 'T'],\n",
       "       ['C', 'C', 'G', 'T', 'C', 'A', 'T', 'C', 'T', 'G', 'G', 'C', 'C',\n",
       "        'G', 'C', 'C', 'A', 'A', 'C', 'G'],\n",
       "       ['C', 'G', 'G', 'C', 'C', 'C', 'T', 'C', 'A', 'G', 'G', 'T', 'G',\n",
       "        'G', 'G', 'G', 'A', 'C', 'C', 'A'],\n",
       "       ['A', 'G', 'T', 'G', 'T', 'T', 'G', 'C', 'C', 'A', 'A', 'G', 'C',\n",
       "        'G', 'G', 'C', 'G', 'G', 'C', 'G'],\n",
       "       ['G', 'C', 'T', 'C', 'C', 'G', 'A', 'C', 'G', 'T', 'G', 'C', 'C',\n",
       "        'G', 'G', 'T', 'G', 'C', 'C', 'A']], dtype='<U1')"
      ]
     },
     "execution_count": 58,
     "metadata": {},
     "output_type": "execute_result"
    }
   ],
   "source": [
    "results[0][1]"
   ]
  },
  {
   "cell_type": "code",
   "execution_count": null,
   "metadata": {},
   "outputs": [],
   "source": []
  }
 ],
 "metadata": {
  "kernelspec": {
   "display_name": "Python 3",
   "language": "python",
   "name": "python3"
  },
  "language_info": {
   "codemirror_mode": {
    "name": "ipython",
    "version": 3
   },
   "file_extension": ".py",
   "mimetype": "text/x-python",
   "name": "python",
   "nbconvert_exporter": "python",
   "pygments_lexer": "ipython3",
   "version": "3.7.9"
  }
 },
 "nbformat": 4,
 "nbformat_minor": 4
}
